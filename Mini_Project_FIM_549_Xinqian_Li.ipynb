{
 "cells": [
  {
   "cell_type": "markdown",
   "id": "fd395eda",
   "metadata": {},
   "source": [
    "## General Project Work\n",
    "\n",
    "### 1. Data Collection:\n",
    "Gathered historical data for BAC (Bank of America) and the SPY (S&P 500 Index) from January 1, 2021, to March 8, 2024.\n",
    "Log Return and Volatility Estimation:\n",
    "#### (1) Log Return Calculation:\n",
    "I computed the daily log returns for both BAC and the SPY independently using the formula: \n",
    "$$\n",
    "\\text{Log Return} = \\ln\\left(\\frac{P_t}{P_{t-1}}\\right)\n",
    "$$\n",
    "\n",
    "where $P_t$ represents the price at time $t$.\n",
    "#### (2) GARCH (1,1) Volatility Estimation:\n",
    "Using the obtained log returns, estimated the volatility using the GARCH (1,1) model.\n",
    "This involved fitting the model to the log return series and extracting the volatility forecasts.\n",
    "\n",
    "### 2. Correlation Estimation:\n",
    "I calculated the correlation between BAC and SPY and then used correlation coefficient to assess the degree of linear relationship between the two assets.\n",
    "\n",
    "### 3. Portfolio Risk Assessment:\n",
    "#### (1) 99% Value at Risk (VaR) Estimation:\n",
    "I estimated the 99% VaR for both the assigned symbol and SPY using two methods: historical simulation (equal weight) and delta normal VaR.\n",
    "Historical simulation involved simulating returns based on past data to calculate the VaR.\n",
    "Delta normal VaR employed the assumption of a normal distribution for returns. \n",
    "\n",
    "#### (2) Risk Adjusted Performance Comparison:\n",
    "On March 11, 2024, I compared the risk-adjusted performance of three portfolios. With 1 million USD invested in the Bank of America, 1 million USD invested in the S&P Index, and 2 million USD total invested equally in both assets."
   ]
  },
  {
   "cell_type": "markdown",
   "id": "a5284d3a",
   "metadata": {},
   "source": [
    "## Coding Part"
   ]
  },
  {
   "cell_type": "code",
   "execution_count": 1,
   "id": "28851e8d",
   "metadata": {},
   "outputs": [],
   "source": [
    "# Import libraries\n",
    "import pandas as pd\n",
    "import numpy as np\n",
    "import yfinance as yf\n",
    "from arch import arch_model\n",
    "from scipy.stats import norm\n",
    "import warnings\n",
    "warnings.filterwarnings('ignore')\n"
   ]
  },
  {
   "cell_type": "code",
   "execution_count": 2,
   "id": "88dc738f",
   "metadata": {},
   "outputs": [],
   "source": [
    "# Time period for the data\n",
    "start_date = \"2021-01-01\"\n",
    "final_date = \"2024-03-08\""
   ]
  },
  {
   "cell_type": "code",
   "execution_count": 3,
   "id": "da94494a",
   "metadata": {},
   "outputs": [],
   "source": [
    "# Creating a function to Record the daily data\n",
    "def get_stock_data(ticker, start_date, end_date):\n",
    "    df_data = pd.DataFrame()\n",
    "    stock = yf.download(ticker, start=start_date, end=end_date)\n",
    "    df_data[\"Adj Close\"] = stock['Adj Close']\n",
    "    df_data[\"Returns\"] = stock['Adj Close'].pct_change()\n",
    "    df_data[\"Log Returns\"] = np.log(df_data['Adj Close'] / df_data['Adj Close'].shift(1))\n",
    "    return df_data\n"
   ]
  },
  {
   "cell_type": "code",
   "execution_count": 4,
   "id": "e83d0706",
   "metadata": {},
   "outputs": [
    {
     "name": "stdout",
     "output_type": "stream",
     "text": [
      "[*********************100%%**********************]  1 of 1 completed\n",
      "[*********************100%%**********************]  1 of 1 completed\n"
     ]
    }
   ],
   "source": [
    "# Getting the data\n",
    "bac = get_stock_data(\"BAC\", start_date, final_date)\n",
    "bac = bac.dropna()\n",
    "spy = get_stock_data(\"SPY\", start_date, final_date)\n",
    "spy = spy.dropna()"
   ]
  },
  {
   "cell_type": "code",
   "execution_count": 5,
   "id": "404468ed",
   "metadata": {
    "scrolled": true
   },
   "outputs": [
    {
     "name": "stdout",
     "output_type": "stream",
     "text": [
      "Average Returns of BAC over the observed period is: 37.52 %\n",
      "Average Returns of SPY over the observed period is: 42.55 %\n",
      "Average Log-Returns of BAC over the observed period is: 25.08\n",
      "Average Log-Returns of SPY over the observed period is: 37.8\n"
     ]
    }
   ],
   "source": [
    "# Returns of BAC and SPY\n",
    "bac_returns = np.round((bac['Returns'].sum() * 100), 2)\n",
    "spy_returns = np.round((spy['Returns'].sum() * 100), 2)\n",
    "\n",
    "# Log Returns of BAC and SPY\n",
    "bac_log_returns = np.round((bac['Log Returns'].sum() * 100), 2)\n",
    "spy_log_returns = np.round((spy['Log Returns'].sum() * 100), 2)\n",
    "\n",
    "# Print the returns and log returns\n",
    "print(f\"Average Returns of BAC over the observed period is: {bac_returns} %\")\n",
    "print(f\"Average Returns of SPY over the observed period is: {spy_returns} %\")\n",
    "\n",
    "print(f\"Average Log-Returns of BAC over the observed period is: {bac_log_returns}\")\n",
    "print(f\"Average Log-Returns of SPY over the observed period is: {spy_log_returns}\")"
   ]
  },
  {
   "cell_type": "code",
   "execution_count": 6,
   "id": "3dc4dbb5",
   "metadata": {
    "scrolled": true
   },
   "outputs": [
    {
     "name": "stdout",
     "output_type": "stream",
     "text": [
      "                       Zero Mean - GARCH Model Results                        \n",
      "==============================================================================\n",
      "Dep. Variable:            Log Returns   R-squared:                       0.000\n",
      "Mean Model:                 Zero Mean   Adj. R-squared:                  0.001\n",
      "Vol Model:                      GARCH   Log-Likelihood:                2101.59\n",
      "Distribution:                  Normal   AIC:                          -4197.18\n",
      "Method:            Maximum Likelihood   BIC:                          -4183.13\n",
      "                                        No. Observations:                  797\n",
      "Date:                Fri, Mar 29 2024   Df Residuals:                      797\n",
      "Time:                        01:13:44   Df Model:                            0\n",
      "                              Volatility Model                              \n",
      "============================================================================\n",
      "                 coef    std err          t      P>|t|      95.0% Conf. Int.\n",
      "----------------------------------------------------------------------------\n",
      "omega      7.5504e-05  1.035e-05      7.293  3.038e-13 [5.521e-05,9.580e-05]\n",
      "alpha[1]       0.1615  5.800e-02      2.785  5.354e-03   [4.785e-02,  0.275]\n",
      "beta[1]        0.5962  7.043e-02      8.465  2.571e-17     [  0.458,  0.734]\n",
      "============================================================================\n",
      "\n",
      "Covariance estimator: robust\n",
      "                       Zero Mean - GARCH Model Results                        \n",
      "==============================================================================\n",
      "Dep. Variable:            Log Returns   R-squared:                       0.000\n",
      "Mean Model:                 Zero Mean   Adj. R-squared:                  0.001\n",
      "Vol Model:                      GARCH   Log-Likelihood:                2544.33\n",
      "Distribution:                  Normal   AIC:                          -5082.66\n",
      "Method:            Maximum Likelihood   BIC:                          -5068.61\n",
      "                                        No. Observations:                  797\n",
      "Date:                Fri, Mar 29 2024   Df Residuals:                      797\n",
      "Time:                        01:13:44   Df Model:                            0\n",
      "                              Volatility Model                              \n",
      "============================================================================\n",
      "                 coef    std err          t      P>|t|      95.0% Conf. Int.\n",
      "----------------------------------------------------------------------------\n",
      "omega      1.7765e-06  2.362e-09    752.171      0.000 [1.772e-06,1.781e-06]\n",
      "alpha[1]       0.0729  2.245e-02      3.249  1.158e-03   [2.894e-02,  0.117]\n",
      "beta[1]        0.9123  1.847e-02     49.381      0.000     [  0.876,  0.948]\n",
      "============================================================================\n",
      "\n",
      "Covariance estimator: robust\n",
      "Estimated volatility of BAC over the observed period is: 0.017412\n",
      "Estimated volatility of SPY over the observed period is: 0.010449\n"
     ]
    }
   ],
   "source": [
    "# Specifying the GARCH(1,1) model\n",
    "bac_garch_model = arch_model(bac['Log Returns'][1:], mean='Zero', vol='Garch', p=1, q=1)\n",
    "spy_garch_model = arch_model(spy['Log Returns'][1:], mean='Zero', vol='Garch', p=1, q=1)\n",
    "\n",
    "# Fit the model\n",
    "bac_garch_results = bac_garch_model.fit(disp='off')\n",
    "spy_garch_results = spy_garch_model.fit(disp='off')\n",
    "\n",
    "# Print model summary\n",
    "print(bac_garch_results.summary())\n",
    "print(spy_garch_results.summary())\n",
    "\n",
    "# Extract volatility estimates\n",
    "bac_volatility = bac_garch_results.conditional_volatility\n",
    "spy_volatility = spy_garch_results.conditional_volatility\n",
    "\n",
    "# Print the volatility estimate\n",
    "print(\"Estimated volatility of BAC over the observed period is:\", np.round(bac_volatility.mean(), 6))\n",
    "print(\"Estimated volatility of SPY over the observed period is:\", np.round(spy_volatility.mean(), 6))"
   ]
  },
  {
   "cell_type": "code",
   "execution_count": 7,
   "id": "4e11f7f4",
   "metadata": {},
   "outputs": [
    {
     "name": "stdout",
     "output_type": "stream",
     "text": [
      "Correlation between BAC and SPY over the observed period: 0.22779\n"
     ]
    }
   ],
   "source": [
    "# Merge the 'Adj Close' columns of BAC and SPY into a DataFrame\n",
    "merged_data = (bac['Adj Close'].to_frame().\n",
    "               merge(spy['Adj Close'].to_frame(), \n",
    "                left_index=True, right_index=True, suffixes=('_BAC', '_SPY')))\n",
    "\n",
    "# Calculating correlation\n",
    "correlation = np.round(merged_data['Adj Close_BAC'].corr(merged_data['Adj Close_SPY']), 6)\n",
    "\n",
    "print(\"Correlation between BAC and SPY over the observed period:\", correlation)"
   ]
  },
  {
   "cell_type": "code",
   "execution_count": 8,
   "id": "43ac10b5",
   "metadata": {},
   "outputs": [
    {
     "name": "stdout",
     "output_type": "stream",
     "text": [
      "99% VaR using historical simulation for Portfolio A: $ 39274.14\n",
      "99% VaR using historical simulation for Portfolio B: $ 29555.47\n",
      "99% VaR using historical simulation for Portfolio C: $ 68829.61\n",
      "Expected Shortfall for 99% VaR for Portfolio A: $ 49501.06\n",
      "Expected Shortfall for 99% VaR for Portfolio B: $ 36652.83\n",
      "Expected Shortfall for 99% VaR for Portfolio C: $ 97433.35\n",
      "99% VaR using delta normal for Portfolio A: $ 1093.69\n",
      "99% VaR using delta normal for Portfolio B: $ 1240.44\n",
      "99% VaR using delta normal for Portfolio C: $ 2334.13\n"
     ]
    }
   ],
   "source": [
    "# Define the portfolio values\n",
    "portfolio_A = portfolio_B = 1000000  \n",
    "portfolio_C = 2000000 \n",
    "\n",
    "bac_mean_return = bac['Returns'].mean() \n",
    "spy_mean_return = spy['Returns'].mean()\n",
    "\n",
    "# Historical Simulation VaR (99%)\n",
    "var_hist_a = np.percentile(bac['Returns'], 1) * portfolio_A\n",
    "var_hist_b = np.percentile(spy['Returns'], 1) * portfolio_B\n",
    "var_hist_c = ((np.percentile(bac['Returns'], 1) + np.percentile(spy['Returns'], 1)) / 2) * portfolio_C\n",
    "\n",
    "# Calculating Expected Shortfall at 99% VaR\n",
    "es_hist_a = abs(np.mean((bac['Returns'] * 1000000)[(bac['Returns'] * 1000000) <= var_hist_a]))\n",
    "es_hist_b = abs(np.mean((spy['Returns'] * 1000000)[(spy['Returns'] * 1000000) <= var_hist_b]))\n",
    "es_hist_c = abs(np.mean(((bac['Returns'] + spy['Returns']) * 2000000)\n",
    "                           [((bac['Returns'] + spy['Returns']) * 2000000) <= var_hist_c]))\n",
    "\n",
    "# Calculate 99% VaR using delta normal method\n",
    "z = norm.ppf(0.99)\n",
    "var_dn_a = z * bac_mean_return * portfolio_A\n",
    "var_dn_b = z * spy_mean_return * portfolio_B\n",
    "var_dn_c = z * 0.5 * (bac_mean_return + spy_mean_return) * portfolio_C\n",
    "\n",
    "print(\"99% VaR using historical simulation for Portfolio A: $\", np.round(abs(var_hist_a), 2))\n",
    "print(\"99% VaR using historical simulation for Portfolio B: $\", np.round(abs(var_hist_b), 2))\n",
    "print(\"99% VaR using historical simulation for Portfolio C: $\", np.round(abs(var_hist_c), 2))\n",
    "\n",
    "print(\"Expected Shortfall for 99% VaR for Portfolio A: $\", np.round(abs(es_hist_a), 2))\n",
    "print(\"Expected Shortfall for 99% VaR for Portfolio B: $\", np.round(abs(es_hist_b), 2))\n",
    "print(\"Expected Shortfall for 99% VaR for Portfolio C: $\", np.round(abs(es_hist_c), 2))\n",
    "\n",
    "print(\"99% VaR using delta normal for Portfolio A: $\", np.round(abs(var_dn_a), 2))\n",
    "print(\"99% VaR using delta normal for Portfolio B: $\", np.round(abs(var_dn_b), 2))\n",
    "print(\"99% VaR using delta normal for Portfolio C: $\", np.round(abs(var_dn_c), 2))\n"
   ]
  },
  {
   "cell_type": "code",
   "execution_count": 13,
   "id": "670db531",
   "metadata": {},
   "outputs": [
    {
     "name": "stdout",
     "output_type": "stream",
     "text": [
      "[*********************100%%**********************]  1 of 1 completed\n",
      "[*********************100%%**********************]  1 of 1 completed\n",
      "Portfolio A Return on March 11, 2024: $ 8146.09\n",
      "Portfolio B Return on March 11, 2024: $ -859.83\n",
      "Portfolio C Return on March 11, 2024: $ 7286.26\n"
     ]
    }
   ],
   "source": [
    "# Assumed risk-free rate\n",
    "rf = 0.05  # 5%\n",
    "\n",
    "# Fetch historical price data for March 11, 2024\n",
    "bac_11_03 = yf.download(\"BAC\", start=\"2024-03-08\", end=\"2024-03-12\")\n",
    "spy_11_03 = yf.download(\"SPY\", start=\"2024-03-08\", end=\"2024-03-12\")\n",
    "\n",
    "# Calculate daily returns\n",
    "bac_return_11_03 = bac_11_03['Adj Close'].pct_change()[-1]\n",
    "spy_return_11_03 = spy_11_03['Adj Close'].pct_change()[-1]\n",
    "\n",
    "# Portfolio A: $1 million invested in BAC\n",
    "portfolio_A_return_11_03 = np.round((bac_return_11_03 * 1000000), 2)\n",
    "portfolio_B_return_11_03 = np.round((spy_return_11_03  * 1000000), 2)\n",
    "\n",
    "# Portfolio C: $2 million total invested in BAC and S&P index with $1 million each\n",
    "portfolio_C_return_11_03 = np.round(((0.5 * bac_return_11_03 + \n",
    "                                      0.5 * spy_return_11_03) * 2000000), 2)\n",
    "\n",
    "print(\"Portfolio A Return on March 11, 2024: $\", portfolio_A_return_11_03)\n",
    "print(\"Portfolio B Return on March 11, 2024: $\", portfolio_B_return_11_03)\n",
    "print(\"Portfolio C Return on March 11, 2024: $\", portfolio_C_return_11_03)"
   ]
  },
  {
   "cell_type": "code",
   "execution_count": 10,
   "id": "47f2e272",
   "metadata": {},
   "outputs": [
    {
     "name": "stdout",
     "output_type": "stream",
     "text": [
      "Sharpe ratio for Portfolio A: -2.759\n",
      "Sharpe ratio for Portfolio B: -6.292\n",
      "Sharpe ratio for Portfolio C: -3.814\n"
     ]
    }
   ],
   "source": [
    "# Calculate the volatility for Portfolio C\n",
    "volatility_c = np.sqrt((bac_volatility[-1]**2 + spy_volatility[-1]**2) / 2)\n",
    "\n",
    "# Calculate Sharpe ratio for each portfolio\n",
    "sharpe_ratio_A = np.round(((bac_return_11_03 - rf) / bac_volatility[-1]), 3)\n",
    "sharpe_ratio_B = np.round(((spy_return_11_03 - rf) / spy_volatility[-1]), 3)\n",
    "sharpe_ratio_C = np.round((((0.5 * bac_return_11_03 + \n",
    "                             0.5 * spy_return_11_03) - rf) / volatility_c), 3)\n",
    "\n",
    "print(\"Sharpe ratio for Portfolio A:\", sharpe_ratio_A)\n",
    "print(\"Sharpe ratio for Portfolio B:\", sharpe_ratio_B)\n",
    "print(\"Sharpe ratio for Portfolio C:\", sharpe_ratio_C)\n"
   ]
  },
  {
   "cell_type": "code",
   "execution_count": 11,
   "id": "08019a4c",
   "metadata": {},
   "outputs": [
    {
     "name": "stdout",
     "output_type": "stream",
     "text": [
      "RAROC for Portfolio A: -0.4425814754691938\n",
      "RAROC for Portfolio B: -7.650474676445932\n",
      "RAROC for Portfolio C: -4.273115321096678\n"
     ]
    }
   ],
   "source": [
    "# # Calculate RAROC for each portfolio\n",
    "rf_adjusted = rf * (1/365) * 63  # Adjusting for the number of days from Jan 1, 2024, to March 11, 2024\n",
    "\n",
    "net_income_a = portfolio_A_return_11_03 - (rf_adjusted * portfolio_A)\n",
    "net_income_b = portfolio_B_return_11_03 - (rf_adjusted * portfolio_B)\n",
    "net_income_c = portfolio_C_return_11_03 - (rf_adjusted * portfolio_C)\n",
    "\n",
    "# Define Economic Capital (99% VaR) for each portfolio\n",
    "ec_a = var_dn_a\n",
    "ec_b = var_dn_b\n",
    "ec_c = var_dn_c\n",
    "\n",
    "# Calculate RAROC for each portfolio\n",
    "raroc_a = net_income_a / ec_a\n",
    "raroc_b = net_income_b / ec_b\n",
    "raroc_c = net_income_c / ec_c\n",
    "\n",
    "# Print the result\n",
    "print(f\"RAROC for Portfolio A: {raroc_a}\")\n",
    "print(f\"RAROC for Portfolio B: {raroc_b}\")\n",
    "print(f\"RAROC for Portfolio C: {raroc_c}\")\n"
   ]
  },
  {
   "cell_type": "markdown",
   "id": "7a109baf",
   "metadata": {},
   "source": [
    "## Report Part"
   ]
  },
  {
   "cell_type": "markdown",
   "id": "af981bd0",
   "metadata": {},
   "source": [
    "## Average Returns and Log Returns\n",
    "Average Returns of BAC over the observed period is 37.52 %.\n",
    "\n",
    "Average Returns of SPY over the observed period is 42.55 %.\n",
    "\n",
    "Average Log-Returns of BAC over the observed period is 25.08.\n",
    "\n",
    "Average Log-Returns of SPY over the observed period is 37.8.\n",
    "\n",
    "## GARCH(1,1) Model Parameters\n",
    "#### For BAC:\n",
    "\n",
    "Omega (ω): 0.000090562 with p-value < 0.00001.\n",
    "\n",
    "Alpha[1] (α): 0.1484 with p-value = 0.002737.\n",
    "\n",
    "Beta[1] (β): 0.5600 with p-value < 0.00001.\n",
    "\n",
    "#### For SPY:\n",
    "\n",
    "Omega (ω): 0.00000084157 with p-value ≈ 0.\n",
    "\n",
    "Alpha[1] (α): 0.0521 with p-value ≈ 0.\n",
    "\n",
    "Beta[1] (β): 0.9401 with p-value ≈ 0.\n",
    "\n",
    "The p-values are all significant, which suggests that all the parameters in both models are significantly different from zero at the 99% confidence level.\n",
    "\n",
    "#### For BAC:\n",
    "\n",
    "Display GARCH(1,1) model equation for BAC\n",
    "\n",
    "$$\n",
    "h_t = 0.000090562 + 0.1484\\epsilon_{t-1}^2 + 0.5600h_{t-1}\n",
    "$$\n",
    "where $h_t$ is the conditional variance (volatility) at time $t$, and $\\epsilon_{t-1}$ is the residual from the previous time period.\n",
    "\n",
    "#### For SPY\n",
    "Display GARCH(1,1) model equation for SPY\n",
    "\n",
    "$$\n",
    "h_t = 0.00000084157 + 0.0521\\epsilon_{t-1}^2 + 0.9401h_{t-1}\n",
    "$$\n",
    "\n",
    "\n",
    "## Estimated Volatilities:\n",
    "The estimated volatility of BAC over the observed period is 0.017445, and for SPY, it is 0.010374.\n",
    "\n",
    "## Correlation:\n",
    "The correlation between BAC and SPY over the observed period is 0.22779, indicating a positive but relatively weak relationship between the two securities' returns.\n",
    "\n",
    "## VaR and Expected Shortfall:\n",
    "\n",
    "Expected Shortfall for 99% VaR for Portfolio A: $ 49501.03.\n",
    "\n",
    "Expected Shortfall for 99% VaR for Portfolio B: $ 41897.1.\n",
    "\n",
    "Expected Shortfall for 99% VaR for Portfolio C: $ 72269.98.\n",
    "\n",
    "99% VaR using delta normal for Portfolio A: $ 1093.69.\n",
    "\n",
    "99% VaR using delta normal for Portfolio B: $ 1240.44.\n",
    "\n",
    "99% VaR using delta normal for Portfolio C: $ 2334.13.\n",
    "\n",
    "### How much is the diversification benefit in terms of VaR?\n",
    "\n",
    "Sum of VaRs for Portfolios A and B: \n",
    "$39274.06 + $29555.34 = $68829.4\n",
    "\n",
    "Diversification Benefit = Sum of VaRs for Portfolios A and B - VaR for Portfolio C = $68829.4 - $68829.4 = $0\n",
    "\n",
    "Based on the calculations, the diversification benefit in terms of VaR is $0. \n",
    "This indicates that there is no diversification benefit achieved by combining assets in Portfolio C compared to holding the individual portfolios A and B separately. \n",
    "This is backed by the very high correlation between BAC and the S&P Index is not optimal for diversification benefits in this case.\n",
    "\n",
    "### Compare the 99% VaR estimates for portfolio (C). Which approach leads to a larger VaR? What could be the reason for this difference?\n",
    "\n",
    "Based on the VaR data, the VaR from historical simulation for Portfolio C surpasses the  VaR for A and B. This indicates that combining investments in BAC and the S&P Index (Portfolio C) results in a larger VaR compared to separate investments in BAC (Portfolio A) and the S&P Index (Portfolio B).\n",
    "\n",
    "The reasons can be:\n",
    "\n",
    "(1) The correlation between BAC and the S&P Index\n",
    "\n",
    "BAC and SPY are positively correlated (0.22779), so the diversification benefits are limited. \n",
    "\n",
    "(2) The weight of Investments\n",
    "\n",
    "If the portfolio is not optimally weighted to minimize risk (it equally weights both assets without considering their individual risk contributions), the combined portfolio's VaR could be larger than that of the individual portfolios. This is because the VaR of a combined portfolio is not simply the average of the individual VaRs but a function of the individual risks and their correlation.\n",
    "\n",
    "(3) Mathematical Nature of VaR:\n",
    "\n",
    "VaR is not a linear measure, meaning the VaR of a portfolio is not necessarily the sum or the average of the VaRs of its components. Instead, it's influenced by the distribution of returns and the correlations between the assets in the portfolio. If the portfolio allocation, correlation, and individual asset volatilities align unfavorably, the resulting portfolio VaR can be larger.\n",
    "\n",
    "### Use the results above to assess and discuss which portfolio has the best risk adjusted performance, assuming the 99% VaR is used for economic capital.\n",
    "\n",
    "Portfolio A Return on March 11, 2024: $ 8146.09.\n",
    "\n",
    "Portfolio B Return on March 11, 2024: $ -859.83.\n",
    "\n",
    "Portfolio C Return on March 11, 2024: $ 7286.26.\n",
    "\n",
    "\n",
    "Sharpe ratio for Portfolio A: -2.703.\n",
    "\n",
    "Sharpe ratio for Portfolio B: -6.471.\n",
    "\n",
    "Sharpe ratio for Portfolio C: -3.775.\n",
    "\n",
    "\n",
    "99% VaR using historical simulation for Portfolio A: $ 39274.06.\n",
    "\n",
    "99% VaR using historical simulation for Portfolio B: $ 29555.34.\n",
    "\n",
    "99% VaR using historical simulation for Portfolio C: $ 68829.4.\n",
    "\n",
    "\n",
    "RAROC for Portfolio A: -0.442581438485938.\n",
    "\n",
    "RAROC for Portfolio B: -7.650472881158458.\n",
    "\n",
    "RAROC for Portfolio C: -4.27311462089084.\n",
    "\n",
    "\n",
    "To evaluate and discuss the portfolio with superior risk-adjusted performance, we analyze both returns and risk metrics (VaR and Sharpe ratio). \n",
    "\n",
    "Return: Portfolio A exhibits the highest return on March 11, 2024, followed by Portfolio C and then Portfolio B.\n",
    "\n",
    "VaR: Portfolio B demonstrates the lowest VaR, followed by Portfolio A and then Portfolio C, indicating lesser risk among the three portfolios.\n",
    "\n",
    "Sharpe Ratio: All portfolios have underperformed the risk-free rate, with Portfolio B having the worst risk-adjusted performance, followed by Portfolio C, and Portfolio A being the least negative, the best among the three.\n",
    "\n",
    "RAROC: Portfolio A performs best, followed by C and B.\n",
    "\n",
    "Based on this analysis, Portfolio A appears to have the best risk-adjusted performance among the three. It has the highest return and RAROC, a middle-range risk as per the 99% VaR, and the least negative Sharpe ratio, indicating its underperformance relative to the risk-free rate is the smallest.\n",
    "\n"
   ]
  },
  {
   "cell_type": "code",
   "execution_count": null,
   "id": "a518607f",
   "metadata": {},
   "outputs": [],
   "source": []
  }
 ],
 "metadata": {
  "kernelspec": {
   "display_name": "Python 3 (ipykernel)",
   "language": "python",
   "name": "python3"
  },
  "language_info": {
   "codemirror_mode": {
    "name": "ipython",
    "version": 3
   },
   "file_extension": ".py",
   "mimetype": "text/x-python",
   "name": "python",
   "nbconvert_exporter": "python",
   "pygments_lexer": "ipython3",
   "version": "3.11.5"
  }
 },
 "nbformat": 4,
 "nbformat_minor": 5
}
